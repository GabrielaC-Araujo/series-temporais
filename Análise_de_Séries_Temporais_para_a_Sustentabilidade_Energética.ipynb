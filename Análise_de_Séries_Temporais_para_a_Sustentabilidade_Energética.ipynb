{
  "nbformat": 4,
  "nbformat_minor": 0,
  "metadata": {
    "colab": {
      "provenance": [],
      "authorship_tag": "ABX9TyMpMKOOH1ZSHlVfDfVNWeOt"
    },
    "kernelspec": {
      "name": "python3",
      "display_name": "Python 3"
    },
    "language_info": {
      "name": "python"
    }
  },
  "cells": [
    {
      "cell_type": "code",
      "source": [
        "pip install basedosdados"
      ],
      "metadata": {
        "id": "4dgqgckeVSFm"
      },
      "execution_count": null,
      "outputs": []
    },
    {
      "cell_type": "code",
      "execution_count": null,
      "metadata": {
        "id": "1r75N5EfSX9j"
      },
      "outputs": [],
      "source": [
        "# Importando bibliotecas\n",
        "import pandas as pd\n",
        "import numpy as np\n",
        "from datetime import datetime\n",
        "import basedosdados as bd\n",
        "\n",
        "# Para carregar o dado direto no pandas\n",
        "df = bd.read_table(dataset_id='br_mme_consumo_energia_eletrica',\n",
        "                   table_id='uf',\n",
        "                   billing_project_id='extensao-01')\n"
      ]
    },
    {
      "cell_type": "code",
      "source": [
        "# Obtendo os nomes das colunas\n",
        "colunas = df.columns.values\n",
        "# Definindo a lista de colunas desejada\n",
        "dfColunas = ['ano', 'mes', 'sigla_uf', 'tipo_consumo', 'numero_consumidores', 'consumo']\n",
        "df.rename(columns={'consumo': 'consumo (MWh)'}, inplace=True)\n"
      ],
      "metadata": {
        "id": "giW6i3dcW4L_"
      },
      "execution_count": null,
      "outputs": []
    },
    {
      "cell_type": "code",
      "source": [
        "# Verificando os valores únicos na coluna 'sigla_uf'\n",
        "print(df['sigla_uf'].unique())\n",
        "\n",
        "# Verificando os valores únicos na coluna 'ano'\n",
        "print(df['ano'].unique())\n"
      ],
      "metadata": {
        "id": "MDINN_dpogN2"
      },
      "execution_count": null,
      "outputs": []
    },
    {
      "cell_type": "code",
      "source": [
        "# Filtrar por estado 'PR' e ano '2010'\n",
        "estado_ano_filtrado = df.loc[(df['sigla_uf'] == 'PR') & (df['ano'].between(2012, 2021))]\n",
        "\n",
        "print(estado_ano_filtrado)\n",
        "\n",
        "# Salvar o resultado em um arquivo Excel\n",
        "estado_ano_filtrado.to_excel('resultado.xlsx', index=False)"
      ],
      "metadata": {
        "id": "CLRHaDtdfzFa"
      },
      "execution_count": null,
      "outputs": []
    }
  ]
}